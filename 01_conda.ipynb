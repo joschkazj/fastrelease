{
 "cells": [
  {
   "cell_type": "code",
   "execution_count": null,
   "metadata": {},
   "outputs": [],
   "source": [
    "#hide\n",
    "# default_exp conda"
   ]
  },
  {
   "cell_type": "markdown",
   "metadata": {},
   "source": [
    "# Create conda packages\n",
    "\n",
    "> Pure python packages created from nbdev settings.ini"
   ]
  },
  {
   "cell_type": "code",
   "execution_count": null,
   "metadata": {},
   "outputs": [],
   "source": [
    "#export\n",
    "from fastcore.script import *\n",
    "from fastcore.all import *\n",
    "from fastrelease.core import find_config\n",
    "\n",
    "import yaml,subprocess\n",
    "from copy import deepcopy\n",
    "try: from packaging.version import parse\n",
    "except ImportError: from pip._vendor.packaging.version import parse\n",
    "\n",
    "_PYPI_URL = 'https://pypi.org/pypi/'"
   ]
  },
  {
   "cell_type": "code",
   "execution_count": null,
   "metadata": {},
   "outputs": [],
   "source": [
    "#export\n",
    "def pypi_json(s):\n",
    "    \"Dictionary decoded JSON for PYPI path `s`\"\n",
    "    return urljson(f'{_PYPI_URL}{s}/json')"
   ]
  },
  {
   "cell_type": "code",
   "execution_count": null,
   "metadata": {},
   "outputs": [],
   "source": [
    "#export\n",
    "def latest_pypi(name):\n",
    "    \"Latest version of `name` on pypi\"\n",
    "    return max(parse(r) for r,o in pypi_json(name)['releases'].items()\n",
    "               if not parse(r).is_prerelease and not o[0]['yanked'])"
   ]
  },
  {
   "cell_type": "code",
   "execution_count": null,
   "metadata": {},
   "outputs": [],
   "source": [
    "#export\n",
    "def _pip_conda_meta(name, path):\n",
    "    ver = str(latest_pypi(name))\n",
    "    pypi = pypi_json(f'{name}/{ver}')\n",
    "    info = pypi['info']\n",
    "    rel = [o for o in pypi['urls'] if o['packagetype']=='sdist'][0]\n",
    "    reqs = ['pip', 'python', 'packaging']\n",
    "\n",
    "    # Work around conda build bug - 'package' and 'source' must be first\n",
    "    d1 = {\n",
    "        'package': {'name': name, 'version': ver},\n",
    "        'source': {'url':rel['url'], 'sha256':rel['digests']['sha256']}\n",
    "    }\n",
    "    d2 = {\n",
    "        'build': {'number': '0', 'noarch': 'python',\n",
    "                  'script': '{{ PYTHON }} -m pip install . -vv'},\n",
    "        'test': {'imports': [name]},\n",
    "        'requirements': {'host':reqs, 'run':reqs},\n",
    "        'about': {'license': info['license'], 'home': info['project_url'], 'summary': info['summary']}\n",
    "    }\n",
    "    return d1,d2"
   ]
  },
  {
   "cell_type": "code",
   "execution_count": null,
   "metadata": {},
   "outputs": [],
   "source": [
    "#export\n",
    "def _write_yaml(path, name, d1, d2):\n",
    "    path = Path(path)\n",
    "    p = path/name\n",
    "    p.mkdir(exist_ok=True, parents=True)\n",
    "    yaml.SafeDumper.ignore_aliases = lambda *args : True\n",
    "    with (p/'meta.yaml').open('w') as f:\n",
    "        yaml.safe_dump(d1, f)\n",
    "        yaml.safe_dump(d2, f)"
   ]
  },
  {
   "cell_type": "code",
   "execution_count": null,
   "metadata": {},
   "outputs": [],
   "source": [
    "#export\n",
    "def write_pip_conda_meta(name, path='conda'):\n",
    "    \"Writes a `meta.yaml` file for `name` to the `conda` directory of the current directory\"\n",
    "    _write_yaml(path, name, *_pip_conda_meta(name))"
   ]
  },
  {
   "cell_type": "code",
   "execution_count": null,
   "metadata": {},
   "outputs": [],
   "source": [
    "#export\n",
    "def _get_conda_meta(offline=False):\n",
    "    cfg,cfg_path = find_config()\n",
    "    name,ver = cfg.get('lib_name'),cfg.get('version')\n",
    "    url = cfg.get('doc_host') or cfg.get('git_url')\n",
    "\n",
    "    reqs = ['pip', 'python', 'packaging']\n",
    "    if cfg.get('requirements'): reqs += cfg.get('requirements').split()\n",
    "    if cfg.get('conda_requirements'): reqs += cfg.get('conda_requirements').split()\n",
    "\n",
    "    if not offline:\n",
    "        pypi = pypi_json(f'{name}/{ver}')\n",
    "        rel = [o for o in pypi['urls'] if o['packagetype']=='sdist'][0]\n",
    "        source = {'url':rel['url'], 'sha256':rel['digests']['sha256']}\n",
    "    else:\n",
    "        # Recipe will be put in subfolder `conda/<name-of-package>`\n",
    "        path_to_root = '../..'\n",
    "        if cfg.get('conda_from', 'source') == 'source':\n",
    "            # Build from source (copy of working folder) using setup.py\n",
    "            source =  {'path': path_to_root}\n",
    "        elif cfg.get('conda_from') == 'git':\n",
    "            source =  {'git_url': cfg.get('conda_git_url', path_to_root),\n",
    "                       'git_rev': cfg.get('conda_git_rev', 'HEAD')}\n",
    "        else:\n",
    "            raise ValueError(\"Using offline mode without specifying package source, \"\n",
    "                             \"update `settings.ini` to include `conda_from=[source|git]`\") \n",
    "\n",
    "    # Work around conda build bug - 'package' and 'source' must be first\n",
    "    d1 = {\n",
    "        'package': {'name': name, 'version': ver},\n",
    "        'source': source\n",
    "    }\n",
    "\n",
    "    d2 = {\n",
    "        'build': {'number': '0', 'noarch': 'python',\n",
    "                  'script': '{{ PYTHON }} -m pip install . -vv'},\n",
    "        'requirements': {'host':reqs, 'run':reqs},\n",
    "        'test': {'imports': [cfg.get('lib_path')]},\n",
    "        'about': {\n",
    "            'license': 'Apache Software',\n",
    "            'license_family': 'APACHE',\n",
    "            'home': url, 'doc_url': url, 'dev_url': url,\n",
    "            'summary': cfg.get('description')\n",
    "        },\n",
    "        'extra': {'recipe-maintainers': [cfg.get('user')]}\n",
    "    }\n",
    "    return name,d1,d2"
   ]
  },
  {
   "cell_type": "markdown",
   "metadata": {},
   "source": [
    "By default, package metadata is downloaded from PyPi.\n",
    "\n",
    "**Offline mode:**\n",
    "When using `offline=True`, conda package can be built from source or Git repository.\n",
    "Specify `conda_from` in your package's `settings.ini`.\n",
    "* `conda_from = .` for building from a copy of the working folder or\n",
    "* `conda_from = git` to build from a checkout of a Git repository (use `conda_git_rev` to specify a commit to build from, default: `HEAD`).\n",
    "\n",
    "Example `settings.ini` build from Git `feature/package` branch of repository at `https://mygitserver/repo`:\n",
    "```ini\n",
    "# in settings.ini\n",
    "\n",
    "# conda settings\n",
    "conda_source = git\n",
    "conda_git_url = https://mygitserver/repo\n",
    "conda_git_rev = feature/package\n",
    "# ...\n",
    "```"
   ]
  },
  {
   "cell_type": "code",
   "execution_count": null,
   "metadata": {},
   "outputs": [],
   "source": [
    "#export\n",
    "def write_conda_meta(path='conda', offline=False):\n",
    "    \"Writes a `meta.yaml` file to the `conda` directory of the current directory\"\n",
    "    _write_yaml(path, *_get_conda_meta(offline=offline))"
   ]
  },
  {
   "cell_type": "markdown",
   "metadata": {},
   "source": [
    "This function is used in the `fastrelease_conda_package` CLI command.\n",
    "\n",
    "**NB**: you need to first of all upload your package to PyPi, before creating the conda package. Alternatively, set parameter `offline=True` to create a conda package from your local working copy."
   ]
  },
  {
   "cell_type": "code",
   "execution_count": null,
   "metadata": {},
   "outputs": [],
   "source": [
    "#export\n",
    "@call_parse\n",
    "def fastrelease_conda_package(path:Param(\"Path where package will be created\", str)='conda',\n",
    "                              do_build:Param(\"Run `conda build` step\", bool_arg)=True,\n",
    "                              build_args:Param(\"Additional args (as str) to send to `conda build`\", str)='',\n",
    "                              do_upload:Param(\"Run `anaconda upload` step\", bool_arg)=True,\n",
    "                              upload_user:Param(\"Optional user to upload package to\")=None,\n",
    "                              offline:Param(\"Build package offline\", store_true)=False):\n",
    "    \"Create a `meta.yaml` file ready to be built into a package, and optionally build and upload it\"\n",
    "    if offline:\n",
    "        do_upload = False\n",
    "        print(\"Offline mode, disabling upload.\")\n",
    "    write_conda_meta(path, offline=offline)\n",
    "    cfg,cfg_path = find_config()\n",
    "    out = f\"Done. Next steps:\\n```\\ncd {path}\\n\"\"\"\n",
    "    name,lib_path = cfg.get('lib_name'),cfg.get('lib_path')\n",
    "    out_upl = f\"anaconda upload build/noarch/{lib_path}-{cfg.get('version')}-py_0.tar.bz2\"\n",
    "    if not do_build:\n",
    "        print(f\"{out}conda build .\\n{out_upl}\\n```\")\n",
    "        return\n",
    "\n",
    "    os.chdir(path)\n",
    "    res = run(f\"conda build --output-folder build {build_args} {name}\")\n",
    "    if 'anaconda upload' not in res:\n",
    "        print(f\"{res}\\n\\Build failed.\")\n",
    "        return\n",
    "\n",
    "    upload_str = re.findall('(anaconda upload .*)', res)[0]\n",
    "    if upload_user: upload_str = upload_str.replace('anaconda upload ', f'anaconda upload -u {upload_user} ')\n",
    "    res = run(upload_str)"
   ]
  },
  {
   "cell_type": "markdown",
   "metadata": {},
   "source": [
    "To build and upload a conda package, cd to the root of your repo, and then:\n",
    "\n",
    "    fastrelease_conda_package\n",
    "\n",
    "Or to do things more manually:\n",
    "\n",
    "```\n",
    "fastrelease_conda_package --do_build false\n",
    "cd conda\n",
    "conda build {name}\n",
    "anaconda upload $CONDA_PREFIX/conda-bld/noarch/{name}-{ver}-*.tar.bz2\n",
    "```\n",
    "\n",
    "Add `--debug` (conda debug output) or `--dirty` (keep build folder) to the `conda build command` to debug any problems that occur. See [conda build command reference](https://docs.conda.io/projects/conda-build/en/latest/resources/commands/conda-build.html) for details.\n",
    "\n",
    "Note that the build step takes a few minutes. Add `-u {org_name}` to the `anaconda upload` command if you wish to upload to an organization, or pass `upload_user` to `fastrelease_conda_package`.\n",
    "\n",
    "**NB**: you need to first of all upload your package to PyPi, before creating the conda package. Alternatively, set parameter `offline=True` to create a conda package from your local working copy."
   ]
  },
  {
   "cell_type": "markdown",
   "metadata": {},
   "source": [
    "## Export-"
   ]
  },
  {
   "cell_type": "code",
   "execution_count": null,
   "metadata": {},
   "outputs": [
    {
     "name": "stdout",
     "output_type": "stream",
     "text": [
      "Converted 00_core.ipynb.\n",
      "Converted 01_conda.ipynb.\n",
      "Converted index.ipynb.\n"
     ]
    }
   ],
   "source": [
    "#hide\n",
    "from nbdev.export import notebook2script\n",
    "notebook2script()"
   ]
  },
  {
   "cell_type": "code",
   "execution_count": null,
   "metadata": {},
   "outputs": [],
   "source": []
  }
 ],
 "metadata": {
  "kernelspec": {
   "display_name": "Python 3",
   "language": "python",
   "name": "python3"
  }
 },
 "nbformat": 4,
 "nbformat_minor": 4
}
